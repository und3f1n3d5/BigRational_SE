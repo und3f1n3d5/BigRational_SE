{
  "nbformat": 4,
  "nbformat_minor": 0,
  "metadata": {
    "colab": {
      "name": "BigRational.ipynb",
      "provenance": [],
      "authorship_tag": "ABX9TyPaipaAf7pohP9z3Itr1z55",
      "include_colab_link": true
    },
    "kernelspec": {
      "name": "python3",
      "display_name": "Python 3"
    },
    "language_info": {
      "name": "python"
    }
  },
  "cells": [
    {
      "cell_type": "markdown",
      "metadata": {
        "id": "view-in-github",
        "colab_type": "text"
      },
      "source": [
        "<a href=\"https://colab.research.google.com/github/und3f1n3d5/BigRational_SE/blob/main/BigRational.ipynb\" target=\"_parent\"><img src=\"https://colab.research.google.com/assets/colab-badge.svg\" alt=\"Open In Colab\"/></a>"
      ]
    },
    {
      "cell_type": "markdown",
      "source": [
        "#**BigRational**\n",
        "\n"
      ],
      "metadata": {
        "id": "TVaM05DbA9ze"
      }
    },
    {
      "cell_type": "markdown",
      "source": [
        "## **Предисловие**\n",
        "\n",
        "Исследрвание посвящено реализации длинной арифметике для рациональных чисел. Для этого предварительно реализована целочисленная длинная арифметика. Класс рациональных чисел хранит представление числа в виде обыкновенной несократимой дроби.\n",
        "\n",
        "Тестирование не только охватывает основную функциональность, но и пристальное внимание уделяет тонким моментам реализации и сложным арифметическим операциям. Также добавлено сравнение времени работы умножения: в реализации класса, во встроенном умножении С++ и со встроенной длинной арифметикой в Python."
      ],
      "metadata": {
        "id": "X2Glt2VoeZc7"
      }
    },
    {
      "cell_type": "markdown",
      "source": [
        "## **Функциональность**\n",
        "\n",
        "\\\\\n",
        "### BigInt\n",
        "* стандартные арифметические операции и операция взятия остатка от делаения\n",
        "* операции инкремента и декремента, унарные плюс и минус\n",
        "* операции сравнения\n",
        "* операция взятия модуля (abs1)\n",
        "* операция ввода/вывода, а также представление хранимого числа в виде строки\n",
        "* каст к bool\n",
        "* конструктор от числа, строки, копирования и присваивания.\n",
        "\n",
        "\\\\\n",
        "### BigRational\n",
        "* те же, что и у BigInt\n",
        "* каст к double с кастомной точностью\n",
        "* приведение к десятичной дроби с кастомной точностью"
      ],
      "metadata": {
        "id": "nOybywHifpEp"
      }
    },
    {
      "cell_type": "markdown",
      "source": [
        "## **Тестирование**\n",
        "\n",
        "### Тонкие моменты\n",
        "\n",
        "BigInt\n",
        "\n",
        "```\n",
        "# Check += with different signs\n",
        "        BigInteger A = 50, B = 3;\n",
        "        int a = 50, b = 3;\n",
        "        A += B;\n",
        "        a += b;\n",
        "        CHECK(A == a);\n",
        "        A += -B;\n",
        "        a -= b;\n",
        "        CHECK(A == a);\n",
        "        A = -A;\n",
        "        A -= -B;\n",
        "        a = -a;\n",
        "        a -= -b;\n",
        "        CHECK(A == a);\n",
        "\n",
        "# Check operations with +-0\n",
        "        BigInteger A = 50, B = 0;\n",
        "        CHECK(A - A + B == B);\n",
        "        CHECK(B * -1 == B);\n",
        "\n",
        "```\n",
        "\\\\\n",
        "Rational\n",
        "```\n",
        "# check & reduce\n",
        "        CHECK_THROWS(Rational(1, 0));\n",
        "        CHECK(Rational(0, 10) == Rational(-0));\n",
        "        CHECK(Rational(1024, 512) == Rational(2));\n",
        "        Rational A(18, 16), B(9, -8);\n",
        "        CHECK(A + B == 0);\n",
        "\n",
        "# complex operations\n",
        "        Rational A(1, 2), B(-2, 3);\n",
        "        double a = 1.0/2, b = -2.0/3;\n",
        "        A += ++B;\n",
        "        a += ++b;\n",
        "        CHECK(abs((double) A - a) < 0.001);\n",
        "        A *= B++ * 2 + --A - A-- / 3 + A / B;\n",
        "        a *= b++ * 2 + --a - a-- / 3 + a / b;\n",
        "        CHECK(std::abs((double) A - a) < 0.001);\n",
        "```"
      ],
      "metadata": {
        "id": "1Gp-cxtar81A"
      }
    },
    {
      "cell_type": "markdown",
      "source": [
        "## **Замеры времени на умножении**\n",
        "\n",
        "### Прописанное умножение\n",
        "\n",
        "Умножение выполняется рекурсивно методом Карацубы\n",
        "```\n",
        "A0 = A[0 : A.size()/2]  \n",
        "B0 = B[0 : B.size()/2]\n",
        "\n",
        "A1 = A[A.size()/2 : end_of_A]  \n",
        "B1 = B[B.size()/2 : end_of_B]\n",
        "\n",
        "C0 = A0 * B0 \n",
        "C1 = A0 * B1\n",
        "C2 = A1 * B0\n",
        "*this = A1 * B1 + C0 + C1 + C2;\n",
        "```\n",
        "Время: 191121 нс\n",
        "\n",
        "\\\\\n",
        "### Встроенное умножение Python"
      ],
      "metadata": {
        "id": "5SJUhOdF2J8o"
      }
    },
    {
      "cell_type": "code",
      "source": [
        "import time\n",
        "\n",
        "a = 123456789\n",
        "b = 987654321\n",
        "\n",
        "start = time.time_ns()\n",
        "for i in range(15):\n",
        "  c = a*b\n",
        "end = time.time_ns()\n",
        "\n",
        "print((end - start) / 15, \"нс\")"
      ],
      "metadata": {
        "colab": {
          "base_uri": "https://localhost:8080/"
        },
        "id": "fxhZ8a3f6i7W",
        "outputId": "be272547-1c80-47c4-80bb-d2f3e167dd3b"
      },
      "execution_count": 7,
      "outputs": [
        {
          "output_type": "stream",
          "name": "stdout",
          "text": [
            "6741.6 нс\n"
          ]
        }
      ]
    },
    {
      "cell_type": "markdown",
      "source": [
        "### Встроенное умножение C++\n",
        "\n",
        "Время: 6 нс\n",
        "\n",
        "\\\\\n",
        "### График"
      ],
      "metadata": {
        "id": "PfihY5AB8PVS"
      }
    },
    {
      "cell_type": "code",
      "source": [
        "times = [6, 6741.6, 191121]\n",
        "names = ['c++', 'python', 'BigInt']\n",
        "\n",
        "import matplotlib.pyplot as plt\n",
        "plt.bar(names, times);\n",
        "plt.ylabel('Time: ns')"
      ],
      "metadata": {
        "colab": {
          "base_uri": "https://localhost:8080/",
          "height": 287
        },
        "id": "Lxn9ajvE8cxM",
        "outputId": "2ee8b69b-6926-4c2b-f4c9-8376f10c6c4d"
      },
      "execution_count": 11,
      "outputs": [
        {
          "output_type": "execute_result",
          "data": {
            "text/plain": [
              "Text(0, 0.5, 'Time: ns')"
            ]
          },
          "metadata": {},
          "execution_count": 11
        },
        {
          "output_type": "display_data",
          "data": {
            "text/plain": [
              "<Figure size 432x288 with 1 Axes>"
            ],
            "image/png": "[encoded data removed]"
          },
          "metadata": {
            "needs_background": "light"
          }
        }
      ]
    },
    {
      "cell_type": "markdown",
      "source": [
        "## **Исходники**\n",
        "\n",
        "BigInteger, Rational, тесты и CmakeLists: https://github.com/und3f1n3d5/BigRational_SE"
      ],
      "metadata": {
        "id": "_pmM-acmAiIg"
      }
    }
  ]
}